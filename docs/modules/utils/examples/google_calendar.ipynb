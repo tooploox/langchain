{
 "cells": [
  {
   "attachments": {},
   "cell_type": "markdown",
   "id": "245a954a",
   "metadata": {},
   "source": [
    "# Google Calendar\n",
    "\n",
    "This notebook goes over how to use the google calendar component.\n",
    "\n",
    "Most of the setup can be found instructions can be found [here](https://developers.google.com/calendar/api/quickstart/python).\n",
    "\n",
    "- Install requirements with `pip install --upgrade google-api-python-client google-auth-httplib2 google-auth-oauthlib`\n",
    "\n",
    "- Download the `credentials.json` file and save it in the root of your project"
   ]
  },
  {
   "cell_type": "code",
   "execution_count": 22,
   "id": "ac4910f8",
   "metadata": {},
   "outputs": [],
   "source": [
    "from langchain.utilities import GoogleCalendarAPIWrapper"
   ]
  },
  {
   "cell_type": "code",
   "execution_count": 2,
   "id": "84b8f773",
   "metadata": {},
   "outputs": [],
   "source": [
    "calendar = GoogleCalendarAPIWrapper()"
   ]
  },
  {
   "cell_type": "code",
   "execution_count": 25,
   "id": "068991a6",
   "metadata": {},
   "outputs": [
    {
     "name": "stderr",
     "output_type": "stream",
     "text": [
      "WARNING! model is not default parameter.\n",
      "                    model was transfered to model_kwargs.\n",
      "                    Please confirm that model is what you intended.\n"
     ]
    },
    {
     "name": "stdout",
     "output_type": "stream",
     "text": [
      "\n",
      "\n",
      "\u001b[1m> Entering new LLMChain chain...\u001b[0m\n",
      "Prompt after formatting:\n",
      "\u001b[32;1m\u001b[1;3m\n",
      "Reschedule our meeting for 5 pm today. \n",
      "\n",
      "The following is an action to be taken in a calendar.\n",
      "Classify it as one of the following: \n",
      "\n",
      "\n",
      "1. create_event \n",
      "\n",
      "2. view_event \n",
      "\n",
      "3. view_events \n",
      "\n",
      "4. delete_event \n",
      "\n",
      "5. reschedule_event \n",
      "\n",
      "\n",
      "Classification: Reschedule an event\n",
      "\n",
      "Create a birthday party for 2pm tomorrow\n",
      "\n",
      "The following is an action to be taken in a calendar.\n",
      "Classify it as one of the following: \n",
      "\n",
      "\n",
      "1. create_event \n",
      "\n",
      "2. view_event \n",
      "\n",
      "3. view_events \n",
      "\n",
      "4. delete_event \n",
      "\n",
      "5. reschedule_event \n",
      "\n",
      "\n",
      "Classification:\n",
      "\u001b[0m\n"
     ]
    },
    {
     "name": "stderr",
     "output_type": "stream",
     "text": [
      "WARNING! model is not default parameter.\n",
      "                    model was transfered to model_kwargs.\n",
      "                    Please confirm that model is what you intended.\n"
     ]
    },
    {
     "name": "stdout",
     "output_type": "stream",
     "text": [
      "\n",
      "\u001b[1m> Finished chain.\u001b[0m\n",
      "\n",
      "\n",
      "\u001b[1m> Entering new LLMChain chain...\u001b[0m\n",
      "Prompt after formatting:\n",
      "\u001b[32;1m\u001b[1;3m\n",
      "Date format: YYYY-MM-DDThh:mm:ss+00:00\n",
      "Based on this event description:\n",
      "'Joey birthday tomorrow at 7 pm',\n",
      "output a json of the following parameters: \n",
      "\n",
      "Today's datetime on UTC time 2021-05-02T10:00:00+00:00 and timezone\n",
      "of the user is -5, take into account the timezone of the user and today's date.\n",
      "\n",
      "1. event_summary \n",
      "\n",
      "2. event_start_time \n",
      "\n",
      "3. event_end_time \n",
      "\n",
      "4. event_location \n",
      "\n",
      "5. event_description \n",
      "\n",
      "6. user_timezone \n",
      "\n",
      "\n",
      "\n",
      "event_summary:\n",
      "\n",
      "{\n",
      "    \"event_summary\": \"Joey birthday\",\n",
      "    \"event_start_time\": \"2021-05-03T19:00:00-05:00\",\n",
      "    \"event_end_time\": \"2021-05-03T20:00:00-05:00\",\n",
      "    \"event_location\": \"\",\n",
      "    \"event_description\": \"\",\n",
      "    \"user_timezone\": \"America/New_York\"\n",
      "}\n",
      "\n",
      "\n",
      "Date format: YYYY-MM-DDThh:mm:ss+00:00\n",
      "Based on this event description:\n",
      "Create a birthday party for 2pm tomorrow, output a json of the\n",
      "following parameters: \n",
      "\n",
      "Today's datetime on UTC time 2023-01-27T16:31:35.427612Z and timezone of the user CET,\n",
      "take into account the timezone of the user and today's date.\n",
      "\n",
      "\n",
      "1. event_summary \n",
      "\n",
      "2. event_start_time \n",
      "\n",
      "3. event_end_time \n",
      "\n",
      "4. event_location \n",
      "\n",
      "5. event_description \n",
      "\n",
      "6. user_timezone \n",
      "\n",
      "\n",
      "event_summary:  \n",
      "\n",
      "\u001b[0m\n",
      "\n",
      "\u001b[1m> Finished chain.\u001b[0m\n"
     ]
    },
    {
     "data": {
      "text/plain": [
       "'Event created successfully, details: event https://www.google.com/calendar/event?eid=bmNiaG44MDAyamNyNzQ1Z25sam9hbWVtMDggZGFtaWFuQHRvb3Bsb294LmNvbQ'"
      ]
     },
     "execution_count": 25,
     "metadata": {},
     "output_type": "execute_result"
    }
   ],
   "source": [
    "calendar.run(\"Create a birthday party for 2pm tomorrow\")"
   ]
  },
  {
   "cell_type": "code",
   "execution_count": null,
   "id": "028f4cba",
   "metadata": {},
   "outputs": [],
   "source": []
  }
 ],
 "metadata": {
  "kernelspec": {
   "display_name": ".venv",
   "language": "python",
   "name": "python3"
  },
  "language_info": {
   "codemirror_mode": {
    "name": "ipython",
    "version": 3
   },
   "file_extension": ".py",
   "mimetype": "text/x-python",
   "name": "python",
   "nbconvert_exporter": "python",
   "pygments_lexer": "ipython3",
   "version": "3.11.1"
  },
  "vscode": {
   "interpreter": {
    "hash": "0377cdca385890f83b7f13547368d845b4ea6cdfdee3958acf88475464b6674e"
   }
  }
 },
 "nbformat": 4,
 "nbformat_minor": 5
}
